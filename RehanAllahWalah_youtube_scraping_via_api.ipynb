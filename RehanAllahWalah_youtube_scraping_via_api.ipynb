{
  "nbformat": 4,
  "nbformat_minor": 0,
  "metadata": {
    "colab": {
      "name": "Copy of RehanAllahWalah youtube scraping via api.ipynb",
      "provenance": [],
      "collapsed_sections": [],
      "authorship_tag": "ABX9TyOpowktsHWdjJYgz5gUrVIQ",
      "include_colab_link": true
    },
    "kernelspec": {
      "name": "python3",
      "display_name": "Python 3"
    },
    "language_info": {
      "name": "python"
    }
  },
  "cells": [
    {
      "cell_type": "markdown",
      "metadata": {
        "id": "view-in-github",
        "colab_type": "text"
      },
      "source": [
        "<a href=\"https://colab.research.google.com/github/FawadAli1122/Youtube-Scraping-using-API/blob/main/RehanAllahWalah_youtube_scraping_via_api.ipynb\" target=\"_parent\"><img src=\"https://colab.research.google.com/assets/colab-badge.svg\" alt=\"Open In Colab\"/></a>"
      ]
    },
    {
      "cell_type": "code",
      "metadata": {
        "id": "wNhkmaaRvg_G"
      },
      "source": [
        "from google.colab import drive "
      ],
      "execution_count": null,
      "outputs": []
    },
    {
      "cell_type": "code",
      "metadata": {
        "colab": {
          "base_uri": "https://localhost:8080/"
        },
        "id": "OqA3MKTnvlm5",
        "outputId": "df00de20-79ee-4edb-f1ef-a57d5b352b07"
      },
      "source": [
        "drive.mount('/content/drive')"
      ],
      "execution_count": null,
      "outputs": [
        {
          "output_type": "stream",
          "text": [
            "Mounted at /content/drive\n"
          ],
          "name": "stdout"
        }
      ]
    },
    {
      "cell_type": "code",
      "metadata": {
        "id": "KTm4wJ2sv5ds"
      },
      "source": [
        "import os"
      ],
      "execution_count": null,
      "outputs": []
    },
    {
      "cell_type": "code",
      "metadata": {
        "id": "bFqJyYg7vtbb"
      },
      "source": [
        "os.chdir('/content/drive/MyDrive/YoutubeApi')"
      ],
      "execution_count": null,
      "outputs": []
    },
    {
      "cell_type": "code",
      "metadata": {
        "colab": {
          "base_uri": "https://localhost:8080/"
        },
        "id": "i3ktAyvNwZ7i",
        "outputId": "abb67b13-afaa-4c9a-f313-fb1744440a8a"
      },
      "source": [
        "!pwd"
      ],
      "execution_count": null,
      "outputs": [
        {
          "output_type": "stream",
          "text": [
            "/content/drive/MyDrive/YoutubeApi\n"
          ],
          "name": "stdout"
        }
      ]
    },
    {
      "cell_type": "code",
      "metadata": {
        "id": "hQofoa-uwbUr"
      },
      "source": [
        "from googleapiclient.discovery import build\n",
        "import pandas as pd"
      ],
      "execution_count": null,
      "outputs": []
    },
    {
      "cell_type": "code",
      "metadata": {
        "id": "Hx7nhhcnwlRk"
      },
      "source": [
        "youTubeApiKey=\"\"\n",
        "youtube=build('youtube','v3',developerKey=youTubeApiKey)\n",
        "channelId=\"UC5kd-4D7J4zbhqjFMWJ3pgQ\""
      ],
      "execution_count": null,
      "outputs": []
    },
    {
      "cell_type": "code",
      "metadata": {
        "colab": {
          "base_uri": "https://localhost:8080/"
        },
        "id": "QOsPmySHxPAY",
        "outputId": "a06892db-6c9a-4b1e-a82e-d9f1177054a7"
      },
      "source": [
        "statdata=youtube.channels().list(part='statistics',id=channelId).execute()\n",
        "stats=statdata['items'][0]['statistics']\n",
        "stats"
      ],
      "execution_count": null,
      "outputs": [
        {
          "output_type": "execute_result",
          "data": {
            "text/plain": [
              "{'hiddenSubscriberCount': False,\n",
              " 'subscriberCount': '145000',\n",
              " 'videoCount': '6989',\n",
              " 'viewCount': '9869490'}"
            ]
          },
          "metadata": {
            "tags": []
          },
          "execution_count": 15
        }
      ]
    },
    {
      "cell_type": "code",
      "metadata": {
        "colab": {
          "base_uri": "https://localhost:8080/"
        },
        "id": "p1EMWyv7I-5E",
        "outputId": "92aa62b4-64aa-4fc6-a0cf-2b2b0015c127"
      },
      "source": [
        "snippetdata=youtube.channels().list(part='snippet',id=channelId).execute()\n",
        "snippetdata "
      ],
      "execution_count": null,
      "outputs": [
        {
          "output_type": "execute_result",
          "data": {
            "text/plain": [
              "{'etag': 'BSgEHvn--L1SOoxJcr1mu3h3waA',\n",
              " 'items': [{'etag': 'mdLr4vurqpo2GkAzno7L57ssPPE',\n",
              "   'id': 'UC5kd-4D7J4zbhqjFMWJ3pgQ',\n",
              "   'kind': 'youtube#channel',\n",
              "   'snippet': {'country': 'PK',\n",
              "    'description': 'Rehan Allahwala was born in Pakistan, a country of 200 Million people. Coming from an entrepreneurial family, his father taught him to be independent. He was selling candies in his neighborhood at 8, stationary to his schoolmates at 10, and started his first company selling Commodore 64 games at 13. He later made Modem & Voice Digitizers at 16 and did 51 different ventures by the time he was 36 when he retired and started teaching via the internet everything he knows, mainly Entrepreneurship.\\n\\nHe is the President and CEO of multiple companies around the world and runs full-time Institute of Peace which works under his foundation for his mission to create a minimum world income of $500 per month for every Human Being.\\n\\nAnother project - Rehan School comes with a purpose to teach a billion people basic literacy via Mobile Phone. All of this leads to his ultimate mission in life-ending poverty worldwide.\\n\\nYou can learn more about him at www.rehan.com\\n\\nfb.com/rehanallahwala\\nfb.com/rehan33\\n',\n",
              "    'localized': {'description': 'Rehan Allahwala was born in Pakistan, a country of 200 Million people. Coming from an entrepreneurial family, his father taught him to be independent. He was selling candies in his neighborhood at 8, stationary to his schoolmates at 10, and started his first company selling Commodore 64 games at 13. He later made Modem & Voice Digitizers at 16 and did 51 different ventures by the time he was 36 when he retired and started teaching via the internet everything he knows, mainly Entrepreneurship.\\n\\nHe is the President and CEO of multiple companies around the world and runs full-time Institute of Peace which works under his foundation for his mission to create a minimum world income of $500 per month for every Human Being.\\n\\nAnother project - Rehan School comes with a purpose to teach a billion people basic literacy via Mobile Phone. All of this leads to his ultimate mission in life-ending poverty worldwide.\\n\\nYou can learn more about him at www.rehan.com\\n\\nfb.com/rehanallahwala\\nfb.com/rehan33\\n',\n",
              "     'title': 'Rehan Allahwala'},\n",
              "    'publishedAt': '2009-12-12T02:11:26Z',\n",
              "    'thumbnails': {'default': {'height': 88,\n",
              "      'url': 'https://yt3.ggpht.com/ytc/AAUvwngZCHe3LxuM8IqGzyXZBbp-x_inUsnIFUfMZMGN=s88-c-k-c0x00ffffff-no-rj',\n",
              "      'width': 88},\n",
              "     'high': {'height': 800,\n",
              "      'url': 'https://yt3.ggpht.com/ytc/AAUvwngZCHe3LxuM8IqGzyXZBbp-x_inUsnIFUfMZMGN=s800-c-k-c0x00ffffff-no-rj',\n",
              "      'width': 800},\n",
              "     'medium': {'height': 240,\n",
              "      'url': 'https://yt3.ggpht.com/ytc/AAUvwngZCHe3LxuM8IqGzyXZBbp-x_inUsnIFUfMZMGN=s240-c-k-c0x00ffffff-no-rj',\n",
              "      'width': 240}},\n",
              "    'title': 'Rehan Allahwala'}}],\n",
              " 'kind': 'youtube#channelListResponse',\n",
              " 'pageInfo': {'resultsPerPage': 5, 'totalResults': 1}}"
            ]
          },
          "metadata": {
            "tags": []
          },
          "execution_count": 18
        }
      ]
    },
    {
      "cell_type": "code",
      "metadata": {
        "id": "6idf_TO6Npq6"
      },
      "source": [
        "contentdata=youtube.channels().list(id=channelId,part='contentDetails').execute()\n",
        "playlist_id = contentdata['items'][0]['contentDetails']['relatedPlaylists']['uploads']\n",
        "videos = [ ]\n",
        "next_page_token = None\n",
        "\n",
        "\n",
        "\n",
        "while 1:\n",
        "     res = youtube.playlistItems().list(playlistId=playlist_id,\n",
        "                                               part='snippet',\n",
        "                                               maxResults=50,\n",
        "                                               pageToken=next_page_token).execute()\n",
        "     videos += res['items']\n",
        "     next_page_token = res.get('nextPageToken')\n",
        "\n",
        "\n",
        "\n",
        "     if next_page_token is None:\n",
        "           break\n"
      ],
      "execution_count": null,
      "outputs": []
    },
    {
      "cell_type": "code",
      "metadata": {
        "id": "HCrJql73JD_7"
      },
      "source": [
        "title=[ ]\n",
        "url=[ ]\n",
        "description=[ ]\n",
        "for i in range(len(videos)):\n",
        "      title.append((videos[i])['snippet']['title'])\n",
        "      description.append((videos[i])['snippet']['description'])\n",
        "      url.append(\"https://www.youtube.com/watch?v=\"+(videos[i])['snippet']['resourceId']['videoId'])\n",
        "    "
      ],
      "execution_count": null,
      "outputs": []
    },
    {
      "cell_type": "code",
      "metadata": {
        "colab": {
          "base_uri": "https://localhost:8080/",
          "height": 589
        },
        "id": "7AKQiREZNlNm",
        "outputId": "9cd16076-cfa8-4423-a40f-dab84339bf28"
      },
      "source": [
        "import pandas as pd\n",
        "data={'title':title,'description':description,'url':url}\n",
        "df=pd.DataFrame(data)\n",
        "df"
      ],
      "execution_count": null,
      "outputs": [
        {
          "output_type": "execute_result",
          "data": {
            "text/html": [
              "<div>\n",
              "<style scoped>\n",
              "    .dataframe tbody tr th:only-of-type {\n",
              "        vertical-align: middle;\n",
              "    }\n",
              "\n",
              "    .dataframe tbody tr th {\n",
              "        vertical-align: top;\n",
              "    }\n",
              "\n",
              "    .dataframe thead th {\n",
              "        text-align: right;\n",
              "    }\n",
              "</style>\n",
              "<table border=\"1\" class=\"dataframe\">\n",
              "  <thead>\n",
              "    <tr style=\"text-align: right;\">\n",
              "      <th></th>\n",
              "      <th>title</th>\n",
              "      <th>description</th>\n",
              "      <th>url</th>\n",
              "    </tr>\n",
              "  </thead>\n",
              "  <tbody>\n",
              "    <tr>\n",
              "      <th>0</th>\n",
              "      <td>یو ٹیوب كے سبسکرائبر کیسے بڑھائیں؟ |  YouTube ...</td>\n",
              "      <td>یو ٹیوب كے سبسکرائبر کیسے بڑھائیں؟ |  YouTube ...</td>\n",
              "      <td>https://www.youtube.com/watch?v=3Uy6r0WCUnM</td>\n",
              "    </tr>\n",
              "    <tr>\n",
              "      <th>1</th>\n",
              "      <td>Join and learn Live from the best ! Bob Proctor !</td>\n",
              "      <td>Join and learn from the best ! Bob Proctor ! \\...</td>\n",
              "      <td>https://www.youtube.com/watch?v=lkipg-17B1k</td>\n",
              "    </tr>\n",
              "    <tr>\n",
              "      <th>2</th>\n",
              "      <td>Farooq Qaiser Kay Qissay | Stories Narrated By...</td>\n",
              "      <td>This video has some of the stories that were n...</td>\n",
              "      <td>https://www.youtube.com/watch?v=9BSL_nu-t7I</td>\n",
              "    </tr>\n",
              "    <tr>\n",
              "      <th>3</th>\n",
              "      <td>Farooq Qaiser Urf Uncle Sargam Chalay Gaye | I...</td>\n",
              "      <td>I am fortunate enough to meet Farooq Qaiser ak...</td>\n",
              "      <td>https://www.youtube.com/watch?v=E2Hui3VS5BQ</td>\n",
              "    </tr>\n",
              "    <tr>\n",
              "      <th>4</th>\n",
              "      <td>Corona Se Faida Uthayen | ہائےہائےکورونا | Reh...</td>\n",
              "      <td>Corona Se Faida Uthayen | ہائےہائےکورونا | Reh...</td>\n",
              "      <td>https://www.youtube.com/watch?v=DNRzIZiut-s</td>\n",
              "    </tr>\n",
              "    <tr>\n",
              "      <th>...</th>\n",
              "      <td>...</td>\n",
              "      <td>...</td>\n",
              "      <td>...</td>\n",
              "    </tr>\n",
              "    <tr>\n",
              "      <th>6984</th>\n",
              "      <td>Introduction of Bill gates(urdu) - Rehan Unive...</td>\n",
              "      <td>An amazing Introduction of Amazing Personality...</td>\n",
              "      <td>https://www.youtube.com/watch?v=kI5spNfmcVU</td>\n",
              "    </tr>\n",
              "    <tr>\n",
              "      <th>6985</th>\n",
              "      <td>Todd Shea Interview in Islamabad</td>\n",
              "      <td>Todd Shea Interview in Islamabad \\n\\nTodd shea...</td>\n",
              "      <td>https://www.youtube.com/watch?v=eHWlfQfoW-Q</td>\n",
              "    </tr>\n",
              "    <tr>\n",
              "      <th>6986</th>\n",
              "      <td>No signboard - Restaurant Tour in Singapore</td>\n",
              "      <td>No signboard - Restaurant Tour in Singapore</td>\n",
              "      <td>https://www.youtube.com/watch?v=jqXBiyvc_I4</td>\n",
              "    </tr>\n",
              "    <tr>\n",
              "      <th>6987</th>\n",
              "      <td>No signboard Restaurant in Singapore</td>\n",
              "      <td>No signboard Restaurant in Singapore - Owner I...</td>\n",
              "      <td>https://www.youtube.com/watch?v=lKVpeq_6bu4</td>\n",
              "    </tr>\n",
              "    <tr>\n",
              "      <th>6988</th>\n",
              "      <td>No sign board</td>\n",
              "      <td>1gggggg</td>\n",
              "      <td>https://www.youtube.com/watch?v=tJq8neeRDSU</td>\n",
              "    </tr>\n",
              "  </tbody>\n",
              "</table>\n",
              "<p>6989 rows × 3 columns</p>\n",
              "</div>"
            ],
            "text/plain": [
              "                                                  title  ...                                          url\n",
              "0     یو ٹیوب كے سبسکرائبر کیسے بڑھائیں؟ |  YouTube ...  ...  https://www.youtube.com/watch?v=3Uy6r0WCUnM\n",
              "1     Join and learn Live from the best ! Bob Proctor !  ...  https://www.youtube.com/watch?v=lkipg-17B1k\n",
              "2     Farooq Qaiser Kay Qissay | Stories Narrated By...  ...  https://www.youtube.com/watch?v=9BSL_nu-t7I\n",
              "3     Farooq Qaiser Urf Uncle Sargam Chalay Gaye | I...  ...  https://www.youtube.com/watch?v=E2Hui3VS5BQ\n",
              "4     Corona Se Faida Uthayen | ہائےہائےکورونا | Reh...  ...  https://www.youtube.com/watch?v=DNRzIZiut-s\n",
              "...                                                 ...  ...                                          ...\n",
              "6984  Introduction of Bill gates(urdu) - Rehan Unive...  ...  https://www.youtube.com/watch?v=kI5spNfmcVU\n",
              "6985                   Todd Shea Interview in Islamabad  ...  https://www.youtube.com/watch?v=eHWlfQfoW-Q\n",
              "6986        No signboard - Restaurant Tour in Singapore  ...  https://www.youtube.com/watch?v=jqXBiyvc_I4\n",
              "6987               No signboard Restaurant in Singapore  ...  https://www.youtube.com/watch?v=lKVpeq_6bu4\n",
              "6988                                      No sign board  ...  https://www.youtube.com/watch?v=tJq8neeRDSU\n",
              "\n",
              "[6989 rows x 3 columns]"
            ]
          },
          "metadata": {
            "tags": []
          },
          "execution_count": 42
        }
      ]
    },
    {
      "cell_type": "code",
      "metadata": {
        "id": "jxY4ZWtOOlwN"
      },
      "source": [
        "df.to_csv('file1.csv')"
      ],
      "execution_count": null,
      "outputs": []
    }
  ]
}